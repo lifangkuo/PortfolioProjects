{
 "cells": [
  {
   "cell_type": "code",
   "execution_count": 1,
   "id": "a047bc7f",
   "metadata": {},
   "outputs": [],
   "source": [
    "from bs4 import BeautifulSoup\n",
    "import requests\n",
    "import time\n",
    "import datetime\n",
    "\n",
    "import smtplib"
   ]
  },
  {
   "cell_type": "code",
   "execution_count": 2,
   "id": "a0536015",
   "metadata": {},
   "outputs": [
    {
     "name": "stdout",
     "output_type": "stream",
     "text": [
      "\n",
      "            Anirollz x Nissin Cupnoodle Foxiroll 6\" Blanket Plush Soft Squishy Stuffed Animal Fox\n",
      "           \n",
      "\n",
      "                        $17.99\n",
      "                       \n",
      "\n",
      "\n",
      "\n",
      "              Item Dimensions LxWxH\n",
      "             \n",
      "\n",
      "\n",
      "\n",
      "              5 x 3 x 2 inches\n",
      "             \n",
      "\n",
      "\n",
      "\n",
      "\n",
      "              Anirollz\n",
      "             \n",
      "\n",
      "\n",
      "\n",
      "\n",
      "\n",
      "\n",
      "                4.8 out of 5 stars\n",
      "               \n",
      "\n",
      "\n",
      "\n",
      "\n",
      "\n",
      "\n",
      "\n",
      "\n"
     ]
    }
   ],
   "source": [
    "# Connect to the website and pull in data\n",
    "\n",
    "URL = 'https://www.amazon.com/Anirollz-Coosy-Nissin-Squishy-Blanket/dp/B08D6ZG45J/ref=sr_1_6?crid=WPYT02MBHHWB&keywords=cup%2Bnoodle%2Bcat&qid=1644600850&sprefix=cup%2Bnoodle%2Bcat%2Caps%2C94&sr=8-6&th=1'\n",
    "\n",
    "headers = {'User-Agent': 'Mozilla/5.0 (Windows NT 10.0; Win64; x64) AppleWebKit/537.36 (KHTML, like Gecko) Chrome/97.0.4692.99 Safari/537.36', 'Accept-Encoding':'gzip, deflate', 'Accept':'text/html,application/xhtml+xml,application/xml;q=0.9,*/*;q=0.8', 'DNT':'1','Connection':'close', 'Upgrade-Insecure-Requests':'1'}\n",
    "\n",
    "\n",
    "page = requests.get(URL, headers = headers)\n",
    "\n",
    "soup1 = BeautifulSoup(page.content, 'html.parser')\n",
    "\n",
    "soup2 = BeautifulSoup(soup1.prettify(), 'html.parser')\n",
    "\n",
    "title = soup2.find(id = 'productTitle').get_text()\n",
    "\n",
    "price = soup2.find('span', 'a-offscreen').get_text()\n",
    "\n",
    "item_dimensions = soup2.find('tr', 'a-spacing-small po-item_dimensions').get_text()\n",
    "\n",
    "brand = soup2.find('td', 'a-span9').get_text()\n",
    "\n",
    "rating = soup2.find(id = 'acrPopover').get_text()\n",
    "\n",
    "\n",
    "\n",
    "\n",
    "print(title)\n",
    "print(price)\n",
    "print(item_dimensions)\n",
    "print(brand)\n",
    "print(rating)\n",
    "\n",
    "\n"
   ]
  },
  {
   "cell_type": "code",
   "execution_count": 3,
   "id": "7ad0bf1c",
   "metadata": {},
   "outputs": [
    {
     "name": "stdout",
     "output_type": "stream",
     "text": [
      "Anirollz x Nissin Cupnoodle Foxiroll 6\" Blanket Plush Soft Squishy Stuffed Animal Fox\n",
      "17.99\n",
      "5 x 3 x 2\n",
      "Anirollz\n",
      "4.8\n"
     ]
    }
   ],
   "source": [
    "# Clean up the data a little bit\n",
    "\n",
    "title = title.strip()\n",
    "price = price.strip()[1:]\n",
    "item_dimensions = item_dimensions.strip()[-16:-7]\n",
    "brand = brand.strip()\n",
    "rating = rating.strip()[:3]\n",
    "\n",
    "print(title)\n",
    "print(price)\n",
    "print(item_dimensions)\n",
    "print(brand)\n",
    "print(rating)"
   ]
  },
  {
   "cell_type": "code",
   "execution_count": 4,
   "id": "633830b3",
   "metadata": {},
   "outputs": [
    {
     "data": {
      "text/plain": [
       "str"
      ]
     },
     "execution_count": 4,
     "metadata": {},
     "output_type": "execute_result"
    }
   ],
   "source": [
    "type(price)"
   ]
  },
  {
   "cell_type": "code",
   "execution_count": 5,
   "id": "84eb2590",
   "metadata": {},
   "outputs": [
    {
     "name": "stdout",
     "output_type": "stream",
     "text": [
      "2022-02-11\n"
     ]
    }
   ],
   "source": [
    "import datetime\n",
    "\n",
    "today = datetime.date.today()\n",
    "print(today)"
   ]
  },
  {
   "cell_type": "code",
   "execution_count": 6,
   "id": "108036a4",
   "metadata": {},
   "outputs": [],
   "source": [
    "import csv\n",
    "\n",
    "header = ['Title', 'Price', 'Date', 'Dimension(inches)', 'Brand', 'Rating']\n",
    "data = [title, price, today, item_dimensions, brand, rating]\n",
    "\n",
    "with open('AmazonWebScraperDataset.csv', 'w', newline = '', encoding = 'UTF8') as f:\n",
    "    writer = csv.writer(f)\n",
    "    writer.writerow(header)\n",
    "    writer.writerow(data)\n"
   ]
  },
  {
   "cell_type": "code",
   "execution_count": 7,
   "id": "a56da79b",
   "metadata": {},
   "outputs": [
    {
     "name": "stdout",
     "output_type": "stream",
     "text": [
      "                                               Title  Price        Date  \\\n",
      "0  Anirollz x Nissin Cupnoodle Foxiroll 6\" Blanke...  17.99  2022-02-11   \n",
      "\n",
      "  Dimension(inches)     Brand  Rating  \n",
      "0         5 x 3 x 2  Anirollz     4.8  \n"
     ]
    }
   ],
   "source": [
    "import pandas as pd\n",
    "\n",
    "df = pd.read_csv(r'C:\\Users\\a6927\\Documents\\data analyst\\AmazonWebScraperDataset.csv')\n",
    "print(df)"
   ]
  },
  {
   "cell_type": "code",
   "execution_count": 8,
   "id": "3398270a",
   "metadata": {},
   "outputs": [],
   "source": [
    "with open('AmazonWebScraperDataset.csv', 'a+', newline = '', encoding = 'UTF8') as f: # Append the data\n",
    "    writer = csv.writer(f)\n",
    "    writer.writerow(data)\n"
   ]
  },
  {
   "cell_type": "code",
   "execution_count": 9,
   "id": "cd4f26bb",
   "metadata": {},
   "outputs": [],
   "source": [
    "def check_price():\n",
    "    \n",
    "    URL = 'https://www.amazon.com/Anirollz-Coosy-Nissin-Squishy-Blanket/dp/B08D6ZG45J/ref=sr_1_6?crid=WPYT02MBHHWB&keywords=cup%2Bnoodle%2Bcat&qid=1644600850&sprefix=cup%2Bnoodle%2Bcat%2Caps%2C94&sr=8-6&th=1'\n",
    "\n",
    "    headers = {'User-Agent': 'Mozilla/5.0 (Windows NT 10.0; Win64; x64) AppleWebKit/537.36 (KHTML, like Gecko) Chrome/97.0.4692.99 Safari/537.36', 'Accept-Encoding':'gzip, deflate', 'Accept':'text/html,application/xhtml+xml,application/xml;q=0.9,*/*;q=0.8', 'DNT':'1','Connection':'close', 'Upgrade-Insecure-Requests':'1'}\n",
    "\n",
    "    page = requests.get(URL, headers = headers)\n",
    "\n",
    "    soup1 = BeautifulSoup(page.content, 'html.parser')\n",
    "\n",
    "    soup2 = BeautifulSoup(soup1.prettify(), 'html.parser')\n",
    "\n",
    "    title = soup2.find(id = 'productTitle').get_text()\n",
    "\n",
    "    price = soup2.find('span', 'a-offscreen').get_text()\n",
    "\n",
    "    item_dimensions = soup2.find('tr', 'a-spacing-small po-item_dimensions').get_text()\n",
    "\n",
    "    brand = soup2.find('td', 'a-span9').get_text()\n",
    "\n",
    "    rating = soup2.find(id = 'acrPopover').get_text()\n",
    "    \n",
    "    title = title.strip()\n",
    "\n",
    "    price = price.strip()[1:]\n",
    "\n",
    "    item_dimensions = item_dimensions.strip()[-16:-7]\n",
    "\n",
    "    brand = brand.strip()\n",
    "\n",
    "    rating = rating.strip()[:3]\n",
    "    \n",
    "    import datetime\n",
    "\n",
    "    today = datetime.date.today()\n",
    "    \n",
    "    import csv\n",
    "\n",
    "    header = ['Title', 'Price', 'Date', 'Dimension(inches)', 'Brand', 'Rating']\n",
    "    data = [title, price, today, item_dimensions, brand, rating]\n",
    "    \n",
    "    with open('AmazonWebScraperDataset.csv', 'a+', newline = '', encoding = 'UTF8') as f:\n",
    "        writer = csv.writer(f)\n",
    "        writer.writerow(data)\n",
    "        \n",
    "  \n",
    "        \n",
    "        \n",
    "        \n",
    "        \n",
    "        "
   ]
  },
  {
   "cell_type": "code",
   "execution_count": null,
   "id": "50459e7a",
   "metadata": {},
   "outputs": [],
   "source": [
    "while(True):\n",
    "    check_price()\n",
    "    time.sleep(86400) # check for 24 hours"
   ]
  },
  {
   "cell_type": "code",
   "execution_count": 1,
   "id": "b1d8b117",
   "metadata": {},
   "outputs": [
    {
     "name": "stdout",
     "output_type": "stream",
     "text": [
      "                                               Title  Price        Date  \\\n",
      "0  Anirollz x Nissin Cupnoodle Foxiroll 6\" Blanke...  17.99  2022-02-11   \n",
      "1  Anirollz x Nissin Cupnoodle Foxiroll 6\" Blanke...  17.99  2022-02-11   \n",
      "2  Anirollz x Nissin Cupnoodle Foxiroll 6\" Blanke...  17.99  2022-02-11   \n",
      "\n",
      "  Dimension(inches)     Brand  Rating  \n",
      "0         5 x 3 x 2  Anirollz     4.8  \n",
      "1         5 x 3 x 2  Anirollz     4.8  \n",
      "2         5 x 3 x 2  Anirollz     4.8  \n"
     ]
    }
   ],
   "source": [
    "import pandas as pd\n",
    "\n",
    "df = pd.read_csv(r'C:\\Users\\a6927\\Documents\\data analyst\\AmazonWebScraperDataset.csv')\n",
    "print(df)"
   ]
  },
  {
   "cell_type": "code",
   "execution_count": null,
   "id": "067c7e01",
   "metadata": {},
   "outputs": [],
   "source": []
  }
 ],
 "metadata": {
  "kernelspec": {
   "display_name": "Python 3 (ipykernel)",
   "language": "python",
   "name": "python3"
  },
  "language_info": {
   "codemirror_mode": {
    "name": "ipython",
    "version": 3
   },
   "file_extension": ".py",
   "mimetype": "text/x-python",
   "name": "python",
   "nbconvert_exporter": "python",
   "pygments_lexer": "ipython3",
   "version": "3.8.8"
  }
 },
 "nbformat": 4,
 "nbformat_minor": 5
}
